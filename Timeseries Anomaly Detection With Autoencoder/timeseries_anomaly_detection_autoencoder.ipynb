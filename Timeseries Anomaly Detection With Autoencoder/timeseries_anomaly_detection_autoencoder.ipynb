{
  "cells": [
    {
      "cell_type": "markdown",
      "metadata": {
        "id": "qwA3qkL8RErd"
      },
      "source": [
        "# Timeseries anomaly detection using an Autoencoder\n",
        "\n",
        "**Author:** [pavithrasv](https://github.com/pavithrasv)<br>\n",
        "**Date created:** 2020/05/31<br>\n",
        "**Last modified:** 2020/05/31<br>\n",
        "**Description:** Detect anomalies in a timeseries using an Autoencoder."
      ]
    },
    {
      "cell_type": "markdown",
      "metadata": {
        "id": "yjaOLwvuRErf"
      },
      "source": [
        "## Introduction\n",
        "\n",
        "This script demonstrates how you can use a reconstruction convolutional\n",
        "autoencoder model to detect anomalies in timeseries data."
      ]
    },
    {
      "cell_type": "markdown",
      "metadata": {
        "id": "sAJbA8NGRErf"
      },
      "source": [
        "## Setup"
      ]
    },
    {
      "cell_type": "code",
      "execution_count": 1,
      "metadata": {
        "id": "9qt-KdhSRErf"
      },
      "outputs": [],
      "source": [
        "import numpy as np\n",
        "import pandas as pd\n",
        "from tensorflow import keras\n",
        "from tensorflow.keras import layers\n",
        "from matplotlib import pyplot as plt"
      ]
    },
    {
      "cell_type": "markdown",
      "metadata": {
        "id": "X2ZYAkwzRErg"
      },
      "source": [
        "## Load the data\n",
        "\n",
        "We will use the [Numenta Anomaly Benchmark(NAB)](\n",
        "https://www.kaggle.com/boltzmannbrain/nab) dataset. It provides artifical\n",
        "timeseries data containing labeled anomalous periods of behavior. Data are\n",
        "ordered, timestamped, single-valued metrics.\n",
        "\n",
        "We will use the `art_daily_small_noise.csv` file for training and the\n",
        "`art_daily_jumpsup.csv` file for testing. The simplicity of this dataset\n",
        "allows us to demonstrate anomaly detection effectively."
      ]
    },
    {
      "cell_type": "code",
      "execution_count": 2,
      "metadata": {
        "id": "c_yuBUQkRErg"
      },
      "outputs": [],
      "source": [
        "master_url_root = \"https://raw.githubusercontent.com/numenta/NAB/master/data/\"\n",
        "\n",
        "df_small_noise_url_suffix = \"artificialNoAnomaly/art_daily_small_noise.csv\"\n",
        "df_small_noise_url = master_url_root + df_small_noise_url_suffix\n",
        "df_small_noise = pd.read_csv(\n",
        "    df_small_noise_url, parse_dates=True, index_col=\"timestamp\"\n",
        ")\n",
        "\n",
        "df_daily_jumpsup_url_suffix = \"artificialWithAnomaly/art_daily_jumpsup.csv\"\n",
        "df_daily_jumpsup_url = master_url_root + df_daily_jumpsup_url_suffix\n",
        "df_daily_jumpsup = pd.read_csv(\n",
        "    df_daily_jumpsup_url, parse_dates=True, index_col=\"timestamp\"\n",
        ")"
      ]
    },
    {
      "cell_type": "markdown",
      "metadata": {
        "id": "tYFBk9TTRErg"
      },
      "source": [
        "## Quick look at the data"
      ]
    },
    {
      "cell_type": "code",
      "execution_count": null,
      "metadata": {
        "id": "kV-unJ35RErg"
      },
      "outputs": [],
      "source": [
        "df_small_noise.head()"
      ]
    },
    {
      "cell_type": "code",
      "source": [
        "df_daily_jumpsup.head()"
      ],
      "metadata": {
        "id": "MdNzv7hlcGvI"
      },
      "execution_count": null,
      "outputs": []
    },
    {
      "cell_type": "markdown",
      "metadata": {
        "id": "TqFiBdD1RErh"
      },
      "source": [
        "## Visualize the data\n",
        "### Timeseries data without anomalies\n",
        "\n",
        "We will use the following data for training."
      ]
    },
    {
      "cell_type": "code",
      "execution_count": null,
      "metadata": {
        "id": "LYrGi82CRErh"
      },
      "outputs": [],
      "source": [
        "fig, ax = plt.subplots()\n",
        "df_small_noise.plot(legend=False, ax=ax)\n",
        "plt.show()"
      ]
    },
    {
      "cell_type": "markdown",
      "metadata": {
        "id": "udfwBMoRRErh"
      },
      "source": [
        "### Timeseries data with anomalies\n",
        "\n",
        "We will use the following data for testing and see if the sudden jump up in the\n",
        "data is detected as an anomaly."
      ]
    },
    {
      "cell_type": "code",
      "execution_count": null,
      "metadata": {
        "id": "00ZZTKULRErh"
      },
      "outputs": [],
      "source": [
        "fig, ax = plt.subplots()\n",
        "df_daily_jumpsup.plot(legend=False, ax=ax)\n",
        "plt.show()"
      ]
    },
    {
      "cell_type": "markdown",
      "metadata": {
        "id": "Nhkv6b_eRErh"
      },
      "source": [
        "## Prepare training data\n",
        "\n",
        "Get data values from the training timeseries data file and normalize the\n",
        "`value` data. We have a `value` for every 5 mins for 14 days.\n",
        "\n",
        "-   24 * 60 / 5 = **288 timesteps per day**\n",
        "-   288 * 14 = **4032 data points** in total\n"
      ]
    },
    {
      "cell_type": "code",
      "execution_count": null,
      "metadata": {
        "id": "im7UdgdXREri"
      },
      "outputs": [],
      "source": [
        "# Normalize and save the mean and std we get,\n",
        "# for normalizing test data.\n",
        "training_mean = df_small_noise.mean()\n",
        "training_std = df_small_noise.std()\n",
        "df_training_value = (df_small_noise - training_mean) / training_std\n",
        "print(\"Number of training samples:\", len(df_training_value))"
      ]
    },
    {
      "cell_type": "code",
      "source": [
        "len(df_training_value.values)"
      ],
      "metadata": {
        "id": "diauMc7f-n3c"
      },
      "execution_count": null,
      "outputs": []
    },
    {
      "cell_type": "markdown",
      "metadata": {
        "id": "DTbnz7syREri"
      },
      "source": [
        "### Create sequences\n",
        "Create sequences combining `TIME_STEPS` contiguous data values from the\n",
        "training data.\n",
        "<br><br>\n",
        "\n",
        "| ts[t]      | ... | ts[t+288] |\n",
        "| ----------- | ----------- | ----------- |\n",
        "| ts[0]      | ...       | ts[287]       |\n",
        "| ts[1]   | ...        |ts[288]        |\n",
        "| ts[...]      | ...       | ts[...]       |\n",
        "|  ts[...]    | ...        | ts[...]          |\n",
        "| ts[3744]   | ...        |ts[4031]         |\n",
        "| ts[3745]   | ...       |ts[4032]         |"
      ]
    },
    {
      "cell_type": "code",
      "execution_count": null,
      "metadata": {
        "id": "AflKhZCjRErm"
      },
      "outputs": [],
      "source": [
        "TIME_STEPS = 288\n",
        "\n",
        "# Generated training sequences for use in the model.\n",
        "def create_sequences(values, time_steps=TIME_STEPS):\n",
        "    output = []\n",
        "    for i in range(len(values) - time_steps + 1):\n",
        "        output.append(values[i : (i + time_steps)])\n",
        "    return np.stack(output)\n",
        "\n",
        "\n",
        "x_train = create_sequences(df_training_value.values)\n",
        "print(\"Training input shape: \", x_train.shape)"
      ]
    },
    {
      "cell_type": "markdown",
      "metadata": {
        "id": "hYatGUKkRErn"
      },
      "source": [
        "## Build a model\n",
        "\n",
        "We will build a convolutional reconstruction autoencoder model. The model will\n",
        "take input of shape `(batch_size, sequence_length, num_features)` and return\n",
        "output of the same shape. In this case, `sequence_length` is 288 and\n",
        "`num_features` is 1."
      ]
    },
    {
      "cell_type": "code",
      "execution_count": null,
      "metadata": {
        "id": "k0pvScPFRErn"
      },
      "outputs": [],
      "source": [
        "model = keras.Sequential(\n",
        "    [\n",
        "        layers.Input(shape=(x_train.shape[1], x_train.shape[2])),\n",
        "        layers.Conv1D(\n",
        "            filters=32, kernel_size=7, padding=\"same\", strides=2, activation=\"relu\"\n",
        "        ),\n",
        "        layers.Dropout(rate=0.2),\n",
        "        layers.Conv1D(\n",
        "            filters=16, kernel_size=7, padding=\"same\", strides=2, activation=\"relu\"\n",
        "        ),\n",
        "        layers.Conv1DTranspose(\n",
        "            filters=16, kernel_size=7, padding=\"same\", strides=2, activation=\"relu\"\n",
        "        ),\n",
        "        layers.Dropout(rate=0.2),\n",
        "        layers.Conv1DTranspose(\n",
        "            filters=32, kernel_size=7, padding=\"same\", strides=2, activation=\"relu\"\n",
        "        ),\n",
        "        layers.Conv1DTranspose(filters=1, kernel_size=7, padding=\"same\"),\n",
        "    ]\n",
        ")\n",
        "model.compile(optimizer=keras.optimizers.Adam(learning_rate=0.001), loss=\"mse\")\n",
        "model.summary()"
      ]
    },
    {
      "cell_type": "markdown",
      "metadata": {
        "id": "lnjoD6gdRErn"
      },
      "source": [
        "## Train the model\n",
        "\n",
        "Please note that we are using `x_train` as both the input and the target\n",
        "since this is a reconstruction model."
      ]
    },
    {
      "cell_type": "code",
      "execution_count": null,
      "metadata": {
        "id": "u_AJCY1mRErn"
      },
      "outputs": [],
      "source": [
        "history = model.fit(\n",
        "    x_train,\n",
        "    x_train,\n",
        "    epochs=50,\n",
        "    batch_size=128,\n",
        "    validation_split=0.1,\n",
        "    callbacks=[\n",
        "        keras.callbacks.EarlyStopping(monitor=\"val_loss\", patience=5, mode=\"min\")\n",
        "    ],\n",
        ")"
      ]
    },
    {
      "cell_type": "markdown",
      "metadata": {
        "id": "Dan6vwPoRErn"
      },
      "source": [
        "Let's plot training and validation loss to see how the training went."
      ]
    },
    {
      "cell_type": "code",
      "execution_count": null,
      "metadata": {
        "id": "S58lYMynRErn"
      },
      "outputs": [],
      "source": [
        "plt.plot(history.history[\"loss\"], label=\"Training Loss\")\n",
        "plt.plot(history.history[\"val_loss\"], label=\"Validation Loss\")\n",
        "plt.title('model loss')\n",
        "plt.ylabel('loss')\n",
        "plt.xlabel('epoch')\n",
        "plt.legend()\n",
        "plt.show()"
      ]
    },
    {
      "cell_type": "markdown",
      "metadata": {
        "id": "I5rQI-fiRErn"
      },
      "source": [
        "## Detecting anomalies\n",
        "\n",
        "We will detect anomalies by determining how well our model can reconstruct\n",
        "the input data.\n",
        "\n",
        "\n",
        "1.   Find MAE loss on training samples.\n",
        "2.   Find max MAE loss value. This is the worst our model has performed trying\n",
        "to reconstruct a sample. We will make this the `threshold` for anomaly\n",
        "detection.\n",
        "3.   If the reconstruction loss for a sample is greater than this `threshold`\n",
        "value then we can infer that the model is seeing a pattern that it isn't\n",
        "familiar with. We will label this sample as an `anomaly`.\n"
      ]
    },
    {
      "cell_type": "markdown",
      "source": [
        "**Get train MAE loss**"
      ],
      "metadata": {
        "id": "cL_5PvKMLYJt"
      }
    },
    {
      "cell_type": "code",
      "source": [
        "x_train_pred = model.predict(x_train)\n",
        "train_mae_loss = np.mean(np.abs(x_train_pred - x_train), axis=1)"
      ],
      "metadata": {
        "id": "DnUH4z99LJfy"
      },
      "execution_count": null,
      "outputs": []
    },
    {
      "cell_type": "markdown",
      "source": [
        "**Show it on plot**"
      ],
      "metadata": {
        "id": "dv5iGFlXLdGJ"
      }
    },
    {
      "cell_type": "code",
      "source": [
        "plt.hist(train_mae_loss, bins=50)\n",
        "plt.xlabel(\"Train MAE loss\")\n",
        "plt.ylabel(\"No of samples\")\n",
        "plt.show()"
      ],
      "metadata": {
        "id": "WRqYb0UWLguA"
      },
      "execution_count": null,
      "outputs": []
    },
    {
      "cell_type": "markdown",
      "source": [
        "**Get reconstruction loss threshold**"
      ],
      "metadata": {
        "id": "yH11PpSvLj_r"
      }
    },
    {
      "cell_type": "code",
      "source": [
        "threshold = np.max(train_mae_loss)\n",
        "print(\"Reconstruction error threshold: \", threshold)"
      ],
      "metadata": {
        "id": "Q-9GEkh1LluF"
      },
      "execution_count": null,
      "outputs": []
    },
    {
      "cell_type": "markdown",
      "metadata": {
        "id": "oJDc1nsjREro"
      },
      "source": [
        "### Compare recontruction\n",
        "\n",
        "Just for fun, let's see how our model has recontructed the first sample.\n",
        "This is the 288 timesteps from day 1 of our training dataset.<br> The blue trend shows the actual data and the orange trend shows our model reconstruction."
      ]
    },
    {
      "cell_type": "code",
      "execution_count": null,
      "metadata": {
        "id": "Yt4o9MQJREro"
      },
      "outputs": [],
      "source": [
        "# Checking how the first sequence is learnt\n",
        "plt.plot(x_train[0])\n",
        "plt.plot(x_train_pred[0])\n",
        "plt.show()"
      ]
    },
    {
      "cell_type": "markdown",
      "metadata": {
        "id": "60xc_NAjREro"
      },
      "source": [
        "### Prepare test data"
      ]
    },
    {
      "cell_type": "code",
      "source": [
        "df_test_value = (df_daily_jumpsup - training_mean) / training_std\n",
        "fig, ax = plt.subplots()\n",
        "df_test_value.plot(legend=False, ax=ax)\n",
        "plt.show()"
      ],
      "metadata": {
        "id": "skhpAE_TMxcC"
      },
      "execution_count": null,
      "outputs": []
    },
    {
      "cell_type": "markdown",
      "source": [
        "Create sequences from test values."
      ],
      "metadata": {
        "id": "VGtSf5mlM0Ai"
      }
    },
    {
      "cell_type": "code",
      "source": [
        "x_test = create_sequences(df_test_value.values)\n",
        "print(\"Test input shape: \", x_test.shape)"
      ],
      "metadata": {
        "id": "iWTrgadTM1r3"
      },
      "execution_count": null,
      "outputs": []
    },
    {
      "cell_type": "markdown",
      "source": [
        "Get test MAE loss."
      ],
      "metadata": {
        "id": "p3x58kZmM6lh"
      }
    },
    {
      "cell_type": "code",
      "source": [
        "x_test_pred = model.predict(x_test)\n",
        "test_mae_loss = np.mean(np.abs(x_test_pred - x_test), axis=1)\n",
        "test_mae_loss = test_mae_loss.reshape((-1))"
      ],
      "metadata": {
        "id": "83afbxtQM7Sv"
      },
      "execution_count": null,
      "outputs": []
    },
    {
      "cell_type": "code",
      "source": [
        "plt.hist(test_mae_loss, bins=50)\n",
        "plt.xlabel(\"test MAE loss\")\n",
        "plt.ylabel(\"No of samples\")\n",
        "plt.show()"
      ],
      "metadata": {
        "id": "xUpj_TamNE4x"
      },
      "execution_count": null,
      "outputs": []
    },
    {
      "cell_type": "markdown",
      "source": [
        "Detect all the samples which are anomalies."
      ],
      "metadata": {
        "id": "_GFNonr2NIg0"
      }
    },
    {
      "cell_type": "code",
      "source": [
        "anomalies = test_mae_loss > threshold\n",
        "print(\"Number of anomaly samples: \", np.sum(anomalies))\n",
        "print(\"Indices of anomaly samples: \", np.where(anomalies))"
      ],
      "metadata": {
        "id": "x9QWJwkINJEY"
      },
      "execution_count": null,
      "outputs": []
    },
    {
      "cell_type": "markdown",
      "metadata": {
        "id": "YYyKbuCPREro"
      },
      "source": [
        "## Plot anomalies\n",
        "\n",
        "We now know the samples of the data which are anomalies. With this, we will\n",
        "find the corresponding `timestamps` from the original test data. We will be\n",
        "using the following method to do that:\n",
        "\n",
        "Let's say time_steps = 3 and we have 10 training values. Our `x_train` will\n",
        "look like this:\n",
        "\n",
        "- 0, 1, 2\n",
        "- 1, 2, 3\n",
        "- 2, 3, 4\n",
        "- 3, 4, 5\n",
        "- 4, 5, 6\n",
        "- 5, 6, 7\n",
        "- 6, 7, 8\n",
        "- 7, 8, 9\n",
        "\n",
        "All except the initial and the final time_steps-1 data values, will appear in\n",
        "`time_steps` number of samples. So, if we know that the samples\n",
        "[(3, 4, 5), (4, 5, 6), (5, 6, 7)] are anomalies, we can say that the data point\n",
        "5 is an anomaly."
      ]
    },
    {
      "cell_type": "code",
      "execution_count": 24,
      "metadata": {
        "id": "kwKefjoVREro"
      },
      "outputs": [],
      "source": [
        "# data i is an anomaly if samples [(i - timesteps + 1) to (i)] are anomalies\n",
        "anomalous_data_indices = []\n",
        "for data_idx in range(TIME_STEPS - 1, len(df_test_value) - TIME_STEPS + 1):\n",
        "    if np.all(anomalies[data_idx - TIME_STEPS + 1 : data_idx]):\n",
        "        anomalous_data_indices.append(data_idx)"
      ]
    },
    {
      "cell_type": "markdown",
      "metadata": {
        "id": "cdMh42BNREro"
      },
      "source": [
        "Let's overlay the anomalies on the original test data plot."
      ]
    },
    {
      "cell_type": "code",
      "execution_count": null,
      "metadata": {
        "id": "X5BcnQnYREro"
      },
      "outputs": [],
      "source": [
        "df_subset = df_daily_jumpsup.iloc[anomalous_data_indices]\n",
        "fig, ax = plt.subplots()\n",
        "df_daily_jumpsup.plot(legend=False, ax=ax)\n",
        "df_subset.plot(legend=False, ax=ax, color=\"r\")\n",
        "plt.show()"
      ]
    }
  ],
  "metadata": {
    "accelerator": "GPU",
    "colab": {
      "provenance": []
    },
    "kernelspec": {
      "display_name": "Python 3",
      "language": "python",
      "name": "python3"
    },
    "language_info": {
      "codemirror_mode": {
        "name": "ipython",
        "version": 3
      },
      "file_extension": ".py",
      "mimetype": "text/x-python",
      "name": "python",
      "nbconvert_exporter": "python",
      "pygments_lexer": "ipython3",
      "version": "3.7.0"
    }
  },
  "nbformat": 4,
  "nbformat_minor": 0
}