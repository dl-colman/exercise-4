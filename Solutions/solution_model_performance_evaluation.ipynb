{
 "cells": [
  {
   "cell_type": "markdown",
   "metadata": {
    "colab_type": "text",
    "id": "lP6JLo1tGNBg"
   },
   "source": [
    "# Artificial Neural Network"
   ]
  },
  {
   "cell_type": "markdown",
   "metadata": {
    "colab_type": "text",
    "id": "gWZyYmS_UE_L"
   },
   "source": [
    "### Importing the libraries"
   ]
  },
  {
   "cell_type": "code",
   "execution_count": 1,
   "metadata": {
    "colab": {},
    "colab_type": "code",
    "id": "MxkJoQBkUIHC"
   },
   "outputs": [],
   "source": [
    "import numpy as np\n",
    "import pandas as pd\n",
    "import tensorflow as tf"
   ]
  },
  {
   "cell_type": "code",
   "execution_count": 2,
   "metadata": {
    "colab": {
     "base_uri": "https://localhost:8080/",
     "height": 34
    },
    "colab_type": "code",
    "id": "ZaTwK7ojXr2F",
    "outputId": "0b27a96d-d11a-43e8-ab4b-87c1f01896fe"
   },
   "outputs": [
    {
     "data": {
      "text/plain": "'2.3.0'"
     },
     "execution_count": 2,
     "metadata": {},
     "output_type": "execute_result"
    }
   ],
   "source": [
    "tf.__version__"
   ]
  },
  {
   "cell_type": "markdown",
   "metadata": {
    "colab_type": "text",
    "id": "1E0Q3aoKUCRX"
   },
   "source": [
    "## Part 1 - Data Preprocessing"
   ]
  },
  {
   "cell_type": "markdown",
   "metadata": {
    "colab_type": "text",
    "id": "cKWAkFVGUU0Z"
   },
   "source": [
    "### Importing the dataset"
   ]
  },
  {
   "cell_type": "code",
   "execution_count": 3,
   "metadata": {
    "colab": {},
    "colab_type": "code",
    "id": "MXUkhkMfU4wq"
   },
   "outputs": [],
   "source": [
    "dataset = pd.read_csv('Churn_Modelling.csv')\n",
    "X = dataset.iloc[:, 3:-1].values\n",
    "y = dataset.iloc[:, -1].values"
   ]
  },
  {
   "cell_type": "code",
   "execution_count": 4,
   "metadata": {
    "colab": {
     "base_uri": "https://localhost:8080/",
     "height": 137
    },
    "colab_type": "code",
    "id": "VYP9cQTWbzuI",
    "outputId": "797e7a64-9bac-436a-8c9c-94437e5e7587"
   },
   "outputs": [
    {
     "name": "stdout",
     "output_type": "stream",
     "text": [
      "[[619 'France' 'Female' ... 1 1 101348.88]\n",
      " [608 'Spain' 'Female' ... 0 1 112542.58]\n",
      " [502 'France' 'Female' ... 1 0 113931.57]\n",
      " ...\n",
      " [709 'France' 'Female' ... 0 1 42085.58]\n",
      " [772 'Germany' 'Male' ... 1 0 92888.52]\n",
      " [792 'France' 'Female' ... 1 0 38190.78]]\n"
     ]
    }
   ],
   "source": [
    "print(X)"
   ]
  },
  {
   "cell_type": "code",
   "execution_count": 5,
   "metadata": {
    "colab": {
     "base_uri": "https://localhost:8080/",
     "height": 34
    },
    "colab_type": "code",
    "id": "38vKGE6Nb2RR",
    "outputId": "a815e42a-e0dd-4cb5-ab97-b17ead98fbc3"
   },
   "outputs": [
    {
     "name": "stdout",
     "output_type": "stream",
     "text": [
      "[1 0 1 ... 1 1 0]\n"
     ]
    }
   ],
   "source": [
    "print(y)"
   ]
  },
  {
   "cell_type": "markdown",
   "metadata": {
    "colab_type": "text",
    "id": "N6bQ0UgSU-NJ"
   },
   "source": [
    "### Encoding categorical data"
   ]
  },
  {
   "cell_type": "markdown",
   "metadata": {
    "colab_type": "text",
    "id": "le5MJreAbW52"
   },
   "source": [
    "Label Encoding the \"Gender\" column"
   ]
  },
  {
   "cell_type": "code",
   "execution_count": 6,
   "metadata": {
    "colab": {},
    "colab_type": "code",
    "id": "PxVKWXxLbczC"
   },
   "outputs": [],
   "source": [
    "from sklearn.preprocessing import LabelEncoder\n",
    "le = LabelEncoder()\n",
    "X[:, 2] = le.fit_transform(X[:, 2])"
   ]
  },
  {
   "cell_type": "code",
   "execution_count": 7,
   "metadata": {
    "colab": {
     "base_uri": "https://localhost:8080/",
     "height": 137
    },
    "colab_type": "code",
    "id": "-M1KboxFb6OO",
    "outputId": "e2b8c7e8-0cbc-4cdf-f4eb-7f0853a00b88"
   },
   "outputs": [
    {
     "name": "stdout",
     "output_type": "stream",
     "text": [
      "[0 0 0 ... 0 1 0]\n"
     ]
    }
   ],
   "source": [
    "print(X[:, 2])"
   ]
  },
  {
   "cell_type": "markdown",
   "metadata": {
    "colab_type": "text",
    "id": "CUxGZezpbMcb"
   },
   "source": [
    "One Hot Encoding the \"Geography\" column"
   ]
  },
  {
   "cell_type": "code",
   "execution_count": 8,
   "metadata": {
    "colab": {},
    "colab_type": "code",
    "id": "AMXC8-KMVirw"
   },
   "outputs": [],
   "source": [
    "from sklearn.compose import ColumnTransformer\n",
    "from sklearn.preprocessing import OneHotEncoder\n",
    "ct = ColumnTransformer(transformers=[('encoder', OneHotEncoder(), [1])], remainder='passthrough')\n",
    "X = np.array(ct.fit_transform(X))"
   ]
  },
  {
   "cell_type": "code",
   "execution_count": 9,
   "metadata": {
    "colab": {
     "base_uri": "https://localhost:8080/",
     "height": 137
    },
    "colab_type": "code",
    "id": "ZcxwEon-b8nV",
    "outputId": "23a98af4-5e33-4b26-c27b-f06e3c5d2baf"
   },
   "outputs": [
    {
     "name": "stdout",
     "output_type": "stream",
     "text": [
      "[0.0 0.0 0.0 ... 0.0 1.0 0.0]\n"
     ]
    }
   ],
   "source": [
    "print(X[:, 1])"
   ]
  },
  {
   "cell_type": "markdown",
   "metadata": {
    "colab_type": "text",
    "id": "vHol938cW8zd"
   },
   "source": [
    "### Splitting the dataset into the Training set and Test set"
   ]
  },
  {
   "cell_type": "code",
   "execution_count": 10,
   "metadata": {
    "colab": {},
    "colab_type": "code",
    "id": "Z-TDt0Y_XEfc"
   },
   "outputs": [],
   "source": [
    "from sklearn.model_selection import train_test_split\n",
    "X_train, X_test, y_train, y_test = train_test_split(X, y, test_size = 0.2, random_state = 0)"
   ]
  },
  {
   "cell_type": "markdown",
   "metadata": {
    "colab_type": "text",
    "id": "RE_FcHyfV3TQ"
   },
   "source": [
    "### Feature Scaling"
   ]
  },
  {
   "cell_type": "code",
   "execution_count": 11,
   "metadata": {
    "colab": {},
    "colab_type": "code",
    "id": "ViCrE00rV8Sk"
   },
   "outputs": [],
   "source": [
    "from sklearn.preprocessing import StandardScaler\n",
    "sc = StandardScaler()\n",
    "X_train = sc.fit_transform(X_train)\n",
    "X_test = sc.transform(X_test)"
   ]
  },
  {
   "cell_type": "markdown",
   "metadata": {
    "colab_type": "text",
    "id": "-zfEzkRVXIwF"
   },
   "source": [
    "## Part 2 - Building the ANN"
   ]
  },
  {
   "cell_type": "markdown",
   "metadata": {
    "colab_type": "text",
    "id": "KvdeScabXtlB"
   },
   "source": [
    "### Initializing the ANN"
   ]
  },
  {
   "cell_type": "code",
   "execution_count": 12,
   "metadata": {
    "colab": {},
    "colab_type": "code",
    "id": "3dtrScHxXQox"
   },
   "outputs": [],
   "source": [
    "ann = tf.keras.models.Sequential()"
   ]
  },
  {
   "cell_type": "markdown",
   "metadata": {
    "colab_type": "text",
    "id": "rP6urV6SX7kS"
   },
   "source": [
    "### Adding the input layer and the first hidden layer"
   ]
  },
  {
   "cell_type": "code",
   "execution_count": 13,
   "metadata": {
    "colab": {},
    "colab_type": "code",
    "id": "bppGycBXYCQr"
   },
   "outputs": [],
   "source": [
    "ann.add(tf.keras.layers.Dense(units=6, activation='relu'))"
   ]
  },
  {
   "cell_type": "markdown",
   "metadata": {
    "colab_type": "text",
    "id": "BELWAc_8YJze"
   },
   "source": [
    "### Adding the second hidden layer"
   ]
  },
  {
   "cell_type": "code",
   "execution_count": 14,
   "metadata": {
    "colab": {},
    "colab_type": "code",
    "id": "JneR0u0sYRTd"
   },
   "outputs": [],
   "source": [
    "ann.add(tf.keras.layers.Dense(units=6, activation='relu'))"
   ]
  },
  {
   "cell_type": "markdown",
   "metadata": {
    "colab_type": "text",
    "id": "OyNEe6RXYcU4"
   },
   "source": [
    "### Adding the output layer"
   ]
  },
  {
   "cell_type": "code",
   "execution_count": 15,
   "metadata": {
    "colab": {},
    "colab_type": "code",
    "id": "Cn3x41RBYfvY"
   },
   "outputs": [],
   "source": [
    "ann.add(tf.keras.layers.Dense(units=1, activation='sigmoid'))"
   ]
  },
  {
   "cell_type": "markdown",
   "metadata": {
    "colab_type": "text",
    "id": "JT4u2S1_Y4WG"
   },
   "source": [
    "## Part 3 - Training the ANN"
   ]
  },
  {
   "cell_type": "markdown",
   "metadata": {
    "colab_type": "text",
    "id": "8GWlJChhY_ZI"
   },
   "source": [
    "### Compiling the ANN"
   ]
  },
  {
   "cell_type": "code",
   "execution_count": 16,
   "metadata": {
    "colab": {},
    "colab_type": "code",
    "id": "fG3RrwDXZEaS"
   },
   "outputs": [],
   "source": [
    "ann.compile(optimizer = 'adam', loss = 'binary_crossentropy', metrics = ['accuracy'])"
   ]
  },
  {
   "cell_type": "markdown",
   "metadata": {
    "colab_type": "text",
    "id": "0QR_G5u7ZLSM"
   },
   "source": [
    "### Training the ANN on the Training set"
   ]
  },
  {
   "cell_type": "code",
   "execution_count": 17,
   "metadata": {
    "colab": {
     "base_uri": "https://localhost:8080/",
     "height": 1000
    },
    "colab_type": "code",
    "id": "nHZ-LKv_ZRb3",
    "outputId": "718cc4b0-b5aa-40f0-9b20-d3d31730a531"
   },
   "outputs": [
    {
     "name": "stdout",
     "output_type": "stream",
     "text": [
      "Epoch 1/100\n",
      "225/225 [==============================] - 1s 3ms/step - loss: 0.5944 - accuracy: 0.7556 - val_loss: 0.5149 - val_accuracy: 0.7962\n",
      "Epoch 2/100\n",
      "225/225 [==============================] - 0s 1ms/step - loss: 0.4778 - accuracy: 0.7982 - val_loss: 0.4545 - val_accuracy: 0.8150\n",
      "Epoch 3/100\n",
      "225/225 [==============================] - 1s 2ms/step - loss: 0.4439 - accuracy: 0.8104 - val_loss: 0.4336 - val_accuracy: 0.8250\n",
      "Epoch 4/100\n",
      "225/225 [==============================] - 0s 2ms/step - loss: 0.4316 - accuracy: 0.8153 - val_loss: 0.4234 - val_accuracy: 0.8225\n",
      "Epoch 5/100\n",
      "225/225 [==============================] - 0s 1ms/step - loss: 0.4253 - accuracy: 0.8206 - val_loss: 0.4147 - val_accuracy: 0.8388\n",
      "Epoch 6/100\n",
      "225/225 [==============================] - 0s 2ms/step - loss: 0.4206 - accuracy: 0.8221 - val_loss: 0.4092 - val_accuracy: 0.8375\n",
      "Epoch 7/100\n",
      "225/225 [==============================] - 0s 1ms/step - loss: 0.4174 - accuracy: 0.8249 - val_loss: 0.4041 - val_accuracy: 0.8425\n",
      "Epoch 8/100\n",
      "225/225 [==============================] - 0s 1ms/step - loss: 0.4146 - accuracy: 0.8269 - val_loss: 0.4004 - val_accuracy: 0.8413\n",
      "Epoch 9/100\n",
      "225/225 [==============================] - 0s 1ms/step - loss: 0.4124 - accuracy: 0.8274 - val_loss: 0.3972 - val_accuracy: 0.8438\n",
      "Epoch 10/100\n",
      "225/225 [==============================] - 0s 2ms/step - loss: 0.4107 - accuracy: 0.8274 - val_loss: 0.3934 - val_accuracy: 0.8462\n",
      "Epoch 11/100\n",
      "225/225 [==============================] - 0s 1ms/step - loss: 0.4085 - accuracy: 0.8271 - val_loss: 0.3906 - val_accuracy: 0.8438\n",
      "Epoch 12/100\n",
      "225/225 [==============================] - 0s 1ms/step - loss: 0.4070 - accuracy: 0.8281 - val_loss: 0.3889 - val_accuracy: 0.8438\n",
      "Epoch 13/100\n",
      "225/225 [==============================] - 0s 1ms/step - loss: 0.4057 - accuracy: 0.8282 - val_loss: 0.3862 - val_accuracy: 0.8425\n",
      "Epoch 14/100\n",
      "225/225 [==============================] - 0s 1ms/step - loss: 0.4041 - accuracy: 0.8310 - val_loss: 0.3848 - val_accuracy: 0.8400\n",
      "Epoch 15/100\n",
      "225/225 [==============================] - 0s 962us/step - loss: 0.4026 - accuracy: 0.8297 - val_loss: 0.3839 - val_accuracy: 0.8450\n",
      "Epoch 16/100\n",
      "225/225 [==============================] - 0s 1ms/step - loss: 0.4016 - accuracy: 0.8306 - val_loss: 0.3815 - val_accuracy: 0.8438\n",
      "Epoch 17/100\n",
      "225/225 [==============================] - 0s 1ms/step - loss: 0.4001 - accuracy: 0.8346 - val_loss: 0.3790 - val_accuracy: 0.8450\n",
      "Epoch 18/100\n",
      "225/225 [==============================] - 0s 1ms/step - loss: 0.3985 - accuracy: 0.8335 - val_loss: 0.3773 - val_accuracy: 0.8487\n",
      "Epoch 19/100\n",
      "225/225 [==============================] - 0s 1ms/step - loss: 0.3964 - accuracy: 0.8364 - val_loss: 0.3744 - val_accuracy: 0.8475\n",
      "Epoch 20/100\n",
      "225/225 [==============================] - 0s 1ms/step - loss: 0.3940 - accuracy: 0.8364 - val_loss: 0.3714 - val_accuracy: 0.8475\n",
      "Epoch 21/100\n",
      "225/225 [==============================] - 0s 1ms/step - loss: 0.3919 - accuracy: 0.8367 - val_loss: 0.3674 - val_accuracy: 0.8537\n",
      "Epoch 22/100\n",
      "225/225 [==============================] - 0s 1ms/step - loss: 0.3898 - accuracy: 0.8378 - val_loss: 0.3665 - val_accuracy: 0.8550\n",
      "Epoch 23/100\n",
      "225/225 [==============================] - 0s 1ms/step - loss: 0.3873 - accuracy: 0.8383 - val_loss: 0.3637 - val_accuracy: 0.8537\n",
      "Epoch 24/100\n",
      "225/225 [==============================] - 0s 1ms/step - loss: 0.3850 - accuracy: 0.8408 - val_loss: 0.3619 - val_accuracy: 0.8537\n",
      "Epoch 25/100\n",
      "225/225 [==============================] - 0s 2ms/step - loss: 0.3827 - accuracy: 0.8417 - val_loss: 0.3588 - val_accuracy: 0.8550\n",
      "Epoch 26/100\n",
      "225/225 [==============================] - 0s 1ms/step - loss: 0.3801 - accuracy: 0.8436 - val_loss: 0.3554 - val_accuracy: 0.8600\n",
      "Epoch 27/100\n",
      "225/225 [==============================] - 0s 1ms/step - loss: 0.3770 - accuracy: 0.8453 - val_loss: 0.3518 - val_accuracy: 0.8600\n",
      "Epoch 28/100\n",
      "225/225 [==============================] - 0s 2ms/step - loss: 0.3744 - accuracy: 0.8465 - val_loss: 0.3490 - val_accuracy: 0.8625\n",
      "Epoch 29/100\n",
      "225/225 [==============================] - 0s 2ms/step - loss: 0.3710 - accuracy: 0.8487 - val_loss: 0.3458 - val_accuracy: 0.8625\n",
      "Epoch 30/100\n",
      "225/225 [==============================] - 0s 2ms/step - loss: 0.3689 - accuracy: 0.8487 - val_loss: 0.3450 - val_accuracy: 0.8600\n",
      "Epoch 31/100\n",
      "225/225 [==============================] - 0s 2ms/step - loss: 0.3664 - accuracy: 0.8504 - val_loss: 0.3446 - val_accuracy: 0.8587\n",
      "Epoch 32/100\n",
      "225/225 [==============================] - 0s 2ms/step - loss: 0.3649 - accuracy: 0.8503 - val_loss: 0.3419 - val_accuracy: 0.8650\n",
      "Epoch 33/100\n",
      "225/225 [==============================] - 0s 2ms/step - loss: 0.3627 - accuracy: 0.8506 - val_loss: 0.3414 - val_accuracy: 0.8650\n",
      "Epoch 34/100\n",
      "225/225 [==============================] - 0s 2ms/step - loss: 0.3612 - accuracy: 0.8526 - val_loss: 0.3402 - val_accuracy: 0.8625\n",
      "Epoch 35/100\n",
      "225/225 [==============================] - 0s 2ms/step - loss: 0.3600 - accuracy: 0.8549 - val_loss: 0.3400 - val_accuracy: 0.8625\n",
      "Epoch 36/100\n",
      "225/225 [==============================] - 0s 1ms/step - loss: 0.3586 - accuracy: 0.8544 - val_loss: 0.3398 - val_accuracy: 0.8625\n",
      "Epoch 37/100\n",
      "225/225 [==============================] - 0s 1ms/step - loss: 0.3577 - accuracy: 0.8547 - val_loss: 0.3397 - val_accuracy: 0.8612\n",
      "Epoch 38/100\n",
      "225/225 [==============================] - 0s 1ms/step - loss: 0.3564 - accuracy: 0.8553 - val_loss: 0.3401 - val_accuracy: 0.8612\n",
      "Epoch 39/100\n",
      "225/225 [==============================] - 0s 1ms/step - loss: 0.3551 - accuracy: 0.8556 - val_loss: 0.3399 - val_accuracy: 0.8612\n",
      "Epoch 40/100\n",
      "225/225 [==============================] - 0s 1ms/step - loss: 0.3552 - accuracy: 0.8543 - val_loss: 0.3393 - val_accuracy: 0.8612\n",
      "Epoch 41/100\n",
      "225/225 [==============================] - 0s 2ms/step - loss: 0.3542 - accuracy: 0.8546 - val_loss: 0.3380 - val_accuracy: 0.8637\n",
      "Epoch 42/100\n",
      "225/225 [==============================] - 0s 1ms/step - loss: 0.3539 - accuracy: 0.8557 - val_loss: 0.3378 - val_accuracy: 0.8612\n",
      "Epoch 43/100\n",
      "225/225 [==============================] - 0s 2ms/step - loss: 0.3526 - accuracy: 0.8565 - val_loss: 0.3386 - val_accuracy: 0.8637\n",
      "Epoch 44/100\n",
      "225/225 [==============================] - 0s 1ms/step - loss: 0.3522 - accuracy: 0.8565 - val_loss: 0.3380 - val_accuracy: 0.8625\n",
      "Epoch 45/100\n",
      "225/225 [==============================] - 0s 2ms/step - loss: 0.3514 - accuracy: 0.8556 - val_loss: 0.3381 - val_accuracy: 0.8675\n",
      "Epoch 46/100\n",
      "225/225 [==============================] - 0s 2ms/step - loss: 0.3508 - accuracy: 0.8557 - val_loss: 0.3386 - val_accuracy: 0.8600\n",
      "Epoch 47/100\n",
      "225/225 [==============================] - 0s 1ms/step - loss: 0.3501 - accuracy: 0.8561 - val_loss: 0.3379 - val_accuracy: 0.8625\n",
      "Epoch 48/100\n",
      "225/225 [==============================] - 0s 1ms/step - loss: 0.3498 - accuracy: 0.8556 - val_loss: 0.3376 - val_accuracy: 0.8650\n",
      "Epoch 49/100\n",
      "225/225 [==============================] - 0s 2ms/step - loss: 0.3493 - accuracy: 0.8560 - val_loss: 0.3377 - val_accuracy: 0.8675\n",
      "Epoch 50/100\n",
      "225/225 [==============================] - 0s 1ms/step - loss: 0.3491 - accuracy: 0.8567 - val_loss: 0.3376 - val_accuracy: 0.8650\n",
      "Epoch 51/100\n",
      "225/225 [==============================] - 0s 1ms/step - loss: 0.3488 - accuracy: 0.8578 - val_loss: 0.3377 - val_accuracy: 0.8650\n",
      "Epoch 52/100\n",
      "225/225 [==============================] - 0s 1ms/step - loss: 0.3484 - accuracy: 0.8592 - val_loss: 0.3386 - val_accuracy: 0.8650\n",
      "Epoch 53/100\n",
      "225/225 [==============================] - 0s 2ms/step - loss: 0.3475 - accuracy: 0.8558 - val_loss: 0.3385 - val_accuracy: 0.8625\n",
      "Epoch 54/100\n",
      "225/225 [==============================] - 0s 1ms/step - loss: 0.3476 - accuracy: 0.8575 - val_loss: 0.3386 - val_accuracy: 0.8700\n",
      "Epoch 55/100\n",
      "225/225 [==============================] - 0s 1ms/step - loss: 0.3473 - accuracy: 0.8582 - val_loss: 0.3401 - val_accuracy: 0.8625\n",
      "Epoch 56/100\n",
      "225/225 [==============================] - 0s 1ms/step - loss: 0.3477 - accuracy: 0.8589 - val_loss: 0.3413 - val_accuracy: 0.8612\n",
      "Epoch 57/100\n",
      "225/225 [==============================] - 0s 2ms/step - loss: 0.3465 - accuracy: 0.8576 - val_loss: 0.3387 - val_accuracy: 0.8637\n",
      "Epoch 58/100\n",
      "225/225 [==============================] - 0s 1ms/step - loss: 0.3468 - accuracy: 0.8568 - val_loss: 0.3369 - val_accuracy: 0.8700\n",
      "Epoch 59/100\n",
      "225/225 [==============================] - 0s 1ms/step - loss: 0.3467 - accuracy: 0.8571 - val_loss: 0.3371 - val_accuracy: 0.8662\n",
      "Epoch 60/100\n",
      "225/225 [==============================] - 0s 1ms/step - loss: 0.3458 - accuracy: 0.8592 - val_loss: 0.3375 - val_accuracy: 0.8662\n",
      "Epoch 61/100\n",
      "225/225 [==============================] - 0s 1ms/step - loss: 0.3461 - accuracy: 0.8599 - val_loss: 0.3380 - val_accuracy: 0.8675\n",
      "Epoch 62/100\n",
      "225/225 [==============================] - 0s 1ms/step - loss: 0.3456 - accuracy: 0.8586 - val_loss: 0.3392 - val_accuracy: 0.8675\n",
      "Epoch 63/100\n",
      "225/225 [==============================] - 0s 1ms/step - loss: 0.3459 - accuracy: 0.8593 - val_loss: 0.3382 - val_accuracy: 0.8687\n",
      "Epoch 64/100\n",
      "225/225 [==============================] - 0s 1ms/step - loss: 0.3457 - accuracy: 0.8564 - val_loss: 0.3381 - val_accuracy: 0.8650\n",
      "Epoch 65/100\n",
      "225/225 [==============================] - 0s 1ms/step - loss: 0.3453 - accuracy: 0.8590 - val_loss: 0.3408 - val_accuracy: 0.8637\n",
      "Epoch 66/100\n",
      "225/225 [==============================] - 0s 1ms/step - loss: 0.3459 - accuracy: 0.8576 - val_loss: 0.3383 - val_accuracy: 0.8700\n",
      "Epoch 67/100\n",
      "225/225 [==============================] - 0s 829us/step - loss: 0.3454 - accuracy: 0.8571 - val_loss: 0.3419 - val_accuracy: 0.8612\n",
      "Epoch 68/100\n",
      "225/225 [==============================] - 0s 984us/step - loss: 0.3452 - accuracy: 0.8582 - val_loss: 0.3396 - val_accuracy: 0.8637\n",
      "Epoch 69/100\n",
      "225/225 [==============================] - 0s 1ms/step - loss: 0.3447 - accuracy: 0.8596 - val_loss: 0.3399 - val_accuracy: 0.8637\n",
      "Epoch 70/100\n",
      "225/225 [==============================] - 0s 842us/step - loss: 0.3446 - accuracy: 0.8596 - val_loss: 0.3400 - val_accuracy: 0.8625\n",
      "Epoch 71/100\n",
      "225/225 [==============================] - 0s 935us/step - loss: 0.3445 - accuracy: 0.8572 - val_loss: 0.3389 - val_accuracy: 0.8675\n",
      "Epoch 72/100\n",
      "225/225 [==============================] - 0s 900us/step - loss: 0.3446 - accuracy: 0.8585 - val_loss: 0.3404 - val_accuracy: 0.8675\n",
      "Epoch 73/100\n",
      "225/225 [==============================] - 0s 1ms/step - loss: 0.3445 - accuracy: 0.8561 - val_loss: 0.3399 - val_accuracy: 0.8650\n",
      "Epoch 74/100\n",
      "225/225 [==============================] - 0s 1ms/step - loss: 0.3442 - accuracy: 0.8596 - val_loss: 0.3390 - val_accuracy: 0.8675\n",
      "Epoch 75/100\n",
      "225/225 [==============================] - 0s 1ms/step - loss: 0.3441 - accuracy: 0.8586 - val_loss: 0.3418 - val_accuracy: 0.8612\n",
      "Epoch 76/100\n",
      "225/225 [==============================] - 0s 1ms/step - loss: 0.3437 - accuracy: 0.8587 - val_loss: 0.3398 - val_accuracy: 0.8662\n",
      "Epoch 77/100\n",
      "225/225 [==============================] - 0s 1ms/step - loss: 0.3436 - accuracy: 0.8600 - val_loss: 0.3406 - val_accuracy: 0.8650\n",
      "Epoch 78/100\n",
      "225/225 [==============================] - 0s 1ms/step - loss: 0.3434 - accuracy: 0.8601 - val_loss: 0.3395 - val_accuracy: 0.8637\n",
      "Epoch 79/100\n",
      "225/225 [==============================] - 0s 1ms/step - loss: 0.3432 - accuracy: 0.8585 - val_loss: 0.3420 - val_accuracy: 0.8662\n",
      "Epoch 80/100\n",
      "225/225 [==============================] - 0s 1ms/step - loss: 0.3432 - accuracy: 0.8569 - val_loss: 0.3407 - val_accuracy: 0.8650\n",
      "Epoch 81/100\n",
      "225/225 [==============================] - 0s 1ms/step - loss: 0.3438 - accuracy: 0.8572 - val_loss: 0.3401 - val_accuracy: 0.8625\n",
      "Epoch 82/100\n",
      "225/225 [==============================] - 0s 1ms/step - loss: 0.3430 - accuracy: 0.8597 - val_loss: 0.3408 - val_accuracy: 0.8650\n",
      "Epoch 83/100\n",
      "225/225 [==============================] - 0s 1ms/step - loss: 0.3435 - accuracy: 0.8590 - val_loss: 0.3402 - val_accuracy: 0.8625\n",
      "Epoch 84/100\n",
      "225/225 [==============================] - 0s 1ms/step - loss: 0.3432 - accuracy: 0.8590 - val_loss: 0.3434 - val_accuracy: 0.8625\n",
      "Epoch 85/100\n",
      "225/225 [==============================] - 0s 1ms/step - loss: 0.3426 - accuracy: 0.8579 - val_loss: 0.3394 - val_accuracy: 0.8675\n",
      "Epoch 86/100\n",
      "225/225 [==============================] - 0s 2ms/step - loss: 0.3428 - accuracy: 0.8596 - val_loss: 0.3397 - val_accuracy: 0.8662\n",
      "Epoch 87/100\n",
      "225/225 [==============================] - 0s 1ms/step - loss: 0.3431 - accuracy: 0.8587 - val_loss: 0.3400 - val_accuracy: 0.8600\n",
      "Epoch 88/100\n",
      "225/225 [==============================] - 0s 1ms/step - loss: 0.3425 - accuracy: 0.8574 - val_loss: 0.3415 - val_accuracy: 0.8625\n",
      "Epoch 89/100\n",
      "225/225 [==============================] - 0s 1ms/step - loss: 0.3427 - accuracy: 0.8582 - val_loss: 0.3398 - val_accuracy: 0.8637\n",
      "Epoch 90/100\n",
      "225/225 [==============================] - 0s 1ms/step - loss: 0.3420 - accuracy: 0.8599 - val_loss: 0.3404 - val_accuracy: 0.8650\n",
      "Epoch 91/100\n",
      "225/225 [==============================] - 0s 1ms/step - loss: 0.3419 - accuracy: 0.8594 - val_loss: 0.3404 - val_accuracy: 0.8687\n",
      "Epoch 92/100\n",
      "225/225 [==============================] - 0s 1ms/step - loss: 0.3420 - accuracy: 0.8583 - val_loss: 0.3452 - val_accuracy: 0.8587\n",
      "Epoch 93/100\n",
      "225/225 [==============================] - 0s 1ms/step - loss: 0.3423 - accuracy: 0.8582 - val_loss: 0.3415 - val_accuracy: 0.8650\n",
      "Epoch 94/100\n",
      "225/225 [==============================] - 0s 1ms/step - loss: 0.3422 - accuracy: 0.8583 - val_loss: 0.3402 - val_accuracy: 0.8625\n",
      "Epoch 95/100\n",
      "225/225 [==============================] - 0s 1ms/step - loss: 0.3415 - accuracy: 0.8592 - val_loss: 0.3399 - val_accuracy: 0.8712\n",
      "Epoch 96/100\n",
      "225/225 [==============================] - 0s 1ms/step - loss: 0.3418 - accuracy: 0.8606 - val_loss: 0.3401 - val_accuracy: 0.8712\n",
      "Epoch 97/100\n",
      "225/225 [==============================] - 0s 1ms/step - loss: 0.3419 - accuracy: 0.8589 - val_loss: 0.3410 - val_accuracy: 0.8675\n",
      "Epoch 98/100\n",
      "225/225 [==============================] - 0s 1ms/step - loss: 0.3413 - accuracy: 0.8576 - val_loss: 0.3416 - val_accuracy: 0.8675\n",
      "Epoch 99/100\n",
      "225/225 [==============================] - 0s 1ms/step - loss: 0.3421 - accuracy: 0.8578 - val_loss: 0.3397 - val_accuracy: 0.8637\n",
      "Epoch 100/100\n",
      "225/225 [==============================] - 0s 1ms/step - loss: 0.3414 - accuracy: 0.8603 - val_loss: 0.3413 - val_accuracy: 0.8637\n"
     ]
    }
   ],
   "source": [
    "history = ann.fit(X_train, y_train, validation_split = 0.1, batch_size = 32, epochs = 100)"
   ]
  },
  {
   "cell_type": "markdown",
   "source": [
    "# Visualization of the Loss of training"
   ],
   "metadata": {
    "collapsed": false,
    "pycharm": {
     "name": "#%% md\n"
    }
   }
  },
  {
   "cell_type": "code",
   "execution_count": 18,
   "outputs": [
    {
     "data": {
      "text/plain": "[<matplotlib.lines.Line2D at 0x2101952b550>]"
     },
     "execution_count": 18,
     "metadata": {},
     "output_type": "execute_result"
    },
    {
     "data": {
      "text/plain": "<Figure size 432x288 with 1 Axes>",
      "image/png": "[encoded data removed]"
     },
     "metadata": {
      "needs_background": "light"
     },
     "output_type": "display_data"
    }
   ],
   "source": [
    "import matplotlib.pyplot as plt\n",
    "plt.xlabel('Epoch Number')\n",
    "plt.ylabel(\"Loss\")\n",
    "plt.plot(history.history['loss'])"
   ],
   "metadata": {
    "collapsed": false,
    "pycharm": {
     "name": "#%%\n"
    }
   }
  },
  {
   "cell_type": "markdown",
   "source": [
    "# Visualization of the Accuracy of training"
   ],
   "metadata": {
    "collapsed": false,
    "pycharm": {
     "name": "#%% md\n"
    }
   }
  },
  {
   "cell_type": "code",
   "execution_count": 19,
   "metadata": {},
   "outputs": [
    {
     "data": {
      "text/plain": "[<matplotlib.lines.Line2D at 0x21019c75df0>]"
     },
     "execution_count": 19,
     "metadata": {},
     "output_type": "execute_result"
    },
    {
     "data": {
      "text/plain": "<Figure size 432x288 with 1 Axes>",
      "image/png": "[encoded data removed]"
     },
     "metadata": {
      "needs_background": "light"
     },
     "output_type": "display_data"
    }
   ],
   "source": [
    "plt.xlabel('Epoch Number')\n",
    "plt.ylabel(\"Accuracy Magnitude\")\n",
    "plt.plot(history.history['accuracy'])"
   ]
  },
  {
   "cell_type": "markdown",
   "source": [
    "# Visualization of the Loss of validation VS loss of training"
   ],
   "metadata": {
    "collapsed": false,
    "pycharm": {
     "name": "#%% md\n"
    }
   }
  },
  {
   "cell_type": "code",
   "execution_count": 20,
   "outputs": [
    {
     "data": {
      "text/plain": "<Figure size 432x288 with 1 Axes>",
      "image/png": "[encoded data removed]"
     },
     "metadata": {
      "needs_background": "light"
     },
     "output_type": "display_data"
    }
   ],
   "source": [
    "plt.plot(history.history['loss'])\n",
    "plt.plot(history.history['val_loss'])\n",
    "plt.title('model loss')\n",
    "plt.ylabel('loss')\n",
    "plt.xlabel('epoch')\n",
    "plt.legend(['train', 'val'], loc='upper left')\n",
    "plt.show()"
   ],
   "metadata": {
    "collapsed": false,
    "pycharm": {
     "name": "#%%\n"
    }
   }
  },
  {
   "cell_type": "markdown",
   "source": [
    "# Visualization of the Accuracy of validation VS Accuracy of training"
   ],
   "metadata": {
    "collapsed": false,
    "pycharm": {
     "name": "#%% md\n"
    }
   }
  },
  {
   "cell_type": "code",
   "execution_count": 21,
   "outputs": [
    {
     "data": {
      "text/plain": "<Figure size 432x288 with 1 Axes>",
      "image/png": "[encoded data removed]"
     },
     "metadata": {
      "needs_background": "light"
     },
     "output_type": "display_data"
    }
   ],
   "source": [
    "plt.plot(history.history['accuracy'])\n",
    "plt.plot(history.history['val_accuracy'])\n",
    "plt.title('model accuracy')\n",
    "plt.ylabel('accuracy')\n",
    "plt.xlabel('epoch')\n",
    "plt.legend(['train', 'val'], loc='upper left')\n",
    "plt.show()"
   ],
   "metadata": {
    "collapsed": false,
    "pycharm": {
     "name": "#%%\n"
    }
   }
  },
  {
   "cell_type": "markdown",
   "metadata": {
    "colab_type": "text",
    "id": "tJj5k2MxZga3"
   },
   "source": [
    "## Part 4 - Making the predictions and evaluating the model"
   ]
  },
  {
   "cell_type": "markdown",
   "source": [
    "### Predicting the Test set results"
   ],
   "metadata": {
    "collapsed": false,
    "pycharm": {
     "name": "#%% md\n"
    }
   }
  },
  {
   "cell_type": "code",
   "execution_count": 111,
   "outputs": [],
   "source": [
    "y_pred = ann.predict(X_test)\n",
    "y_pred = (y_pred > 0.5)"
   ],
   "metadata": {
    "collapsed": false,
    "pycharm": {
     "name": "#%%\n"
    }
   }
  },
  {
   "cell_type": "markdown",
   "source": [
    "## Model Performance Evaluation"
   ],
   "metadata": {
    "collapsed": false,
    "pycharm": {
     "name": "#%% md\n"
    }
   }
  },
  {
   "cell_type": "code",
   "execution_count": 112,
   "outputs": [
    {
     "name": "stdout",
     "output_type": "stream",
     "text": [
      "Confusion Matrix:\n",
      "\n",
      "[[1525   70]\n",
      " [ 209  196]]\n"
     ]
    }
   ],
   "source": [
    "from sklearn.metrics import confusion_matrix, accuracy_score\n",
    "cm = confusion_matrix(y_test, y_pred)\n",
    "print(f'Confusion Matrix:\\n\\n{cm}')"
   ],
   "metadata": {
    "collapsed": false,
    "pycharm": {
     "name": "#%%\n"
    }
   }
  },
  {
   "cell_type": "code",
   "execution_count": 113,
   "outputs": [
    {
     "name": "stdout",
     "output_type": "stream",
     "text": [
      "Accuracy: 86%\n"
     ]
    }
   ],
   "source": [
    "accuracy = accuracy_score(y_test, y_pred)\n",
    "print(f'Accuracy: {round(accuracy*100)}%')"
   ],
   "metadata": {
    "collapsed": false,
    "pycharm": {
     "name": "#%%\n"
    }
   }
  },
  {
   "cell_type": "code",
   "execution_count": 114,
   "outputs": [
    {
     "name": "stdout",
     "output_type": "stream",
     "text": [
      "TPR: 88%\n",
      "TNR: 74%\n"
     ]
    }
   ],
   "source": [
    "tp, fp, fn, tn = cm.ravel()\n",
    "TPR = tp/(tp+fn)\n",
    "TNR = tn/(tn+fp)\n",
    "print(f'TPR: {round(TPR*100)}%\\n'\n",
    "      f'TNR: {round(TNR*100)}%')"
   ],
   "metadata": {
    "collapsed": false,
    "pycharm": {
     "name": "#%%\n"
    }
   }
  },
  {
   "cell_type": "code",
   "execution_count": 115,
   "outputs": [
    {
     "name": "stdout",
     "output_type": "stream",
     "text": [
      "              precision    recall  f1-score   support\n",
      "\n",
      "        stay       0.88      0.96      0.92      1595\n",
      "       leave       0.74      0.48      0.58       405\n",
      "\n",
      "    accuracy                           0.86      2000\n",
      "   macro avg       0.81      0.72      0.75      2000\n",
      "weighted avg       0.85      0.86      0.85      2000\n",
      "\n"
     ]
    }
   ],
   "source": [
    "from sklearn.metrics import classification_report\n",
    "target_names = ['stay', 'leave']\n",
    "print(classification_report(y_test, y_pred, target_names=target_names))"
   ],
   "metadata": {
    "collapsed": false,
    "pycharm": {
     "name": "#%%\n"
    }
   }
  },
  {
   "cell_type": "markdown",
   "source": [
    "## ROC\n",
    "The ROC curve helps us find the threshold where the TPR is high and FPR is low i.e. misclassifications are low. Therefore, ROC curves should be used to determine the optimal probability threshold for a classification model."
   ],
   "metadata": {
    "collapsed": false,
    "pycharm": {
     "name": "#%% md\n"
    }
   }
  },
  {
   "cell_type": "code",
   "execution_count": 78,
   "outputs": [
    {
     "data": {
      "text/plain": "<Figure size 432x288 with 1 Axes>",
      "image/png": "[encoded data removed]"
     },
     "metadata": {
      "needs_background": "light"
     },
     "output_type": "display_data"
    }
   ],
   "source": [
    "from sklearn.metrics import roc_curve, auc\n",
    "\n",
    "y_pred_ravel = ann.predict(X_test).ravel()\n",
    "fpr_keras, tpr_keras, thresholds_keras = roc_curve(y_test, y_pred_ravel)\n",
    "auc_keras = auc(fpr_keras, tpr_keras)\n",
    "plt.figure(1)\n",
    "plt.plot([0, 1], [0, 1], 'k--')\n",
    "plt.plot(fpr_keras, tpr_keras, label='Keras (area = {:.3f})'.format(auc_keras))\n",
    "plt.xlabel('False positive rate')\n",
    "plt.ylabel('True positive rate')\n",
    "plt.title('ROC curve')\n",
    "plt.legend(loc='best')\n",
    "plt.show()"
   ],
   "metadata": {
    "collapsed": false,
    "pycharm": {
     "name": "#%%\n"
    }
   }
  },
  {
   "cell_type": "code",
   "execution_count": 79,
   "outputs": [
    {
     "data": {
      "text/plain": "0.8604094585703781"
     },
     "execution_count": 79,
     "metadata": {},
     "output_type": "execute_result"
    }
   ],
   "source": [
    "from sklearn.metrics import roc_auc_score\n",
    "roc_auc_score(y_test, y_pred_ravel)"
   ],
   "metadata": {
    "collapsed": false,
    "pycharm": {
     "name": "#%%\n"
    }
   }
  },
  {
   "cell_type": "markdown",
   "source": [
    "### Predicting the result of a single observation"
   ],
   "metadata": {
    "collapsed": false
   }
  },
  {
   "cell_type": "markdown",
   "source": [
    "**Solution**"
   ],
   "metadata": {
    "collapsed": false
   }
  },
  {
   "cell_type": "markdown",
   "source": [
    "**Homework**\n",
    "\n",
    "Use our ANN model to predict if the customer with the following informations will leave the bank:\n",
    "\n",
    "Geography: France\n",
    "\n",
    "Credit Score: 600\n",
    "\n",
    "Gender: Male\n",
    "\n",
    "Age: 40 years old\n",
    "\n",
    "Tenure: 3 years\n",
    "\n",
    "Balance: \\$ 60000\n",
    "\n",
    "Number of Products: 2\n",
    "\n",
    "Does this customer have a credit card ? Yes\n",
    "\n",
    "Is this customer an Active Member: Yes\n",
    "\n",
    "Estimated Salary: \\$ 50000\n",
    "\n",
    "So, should we say goodbye to that customer ?"
   ],
   "metadata": {
    "collapsed": false
   }
  },
  {
   "cell_type": "code",
   "execution_count": 25,
   "outputs": [],
   "source": [
    "def single_predictor(single_features):\n",
    "    features_list = []\n",
    "    for sublist in single_features.values():\n",
    "        if type(sublist) == list:\n",
    "            for item in sublist:\n",
    "                features_list.append(item)\n",
    "        else:\n",
    "            features_list.append(sublist)\n",
    "    transform_features = sc.transform([features_list])\n",
    "    my_prediction = ann.predict(transform_features)\n",
    "    print(my_prediction > 0.5)"
   ],
   "metadata": {
    "collapsed": false,
    "pycharm": {
     "name": "#%%\n"
    }
   }
  },
  {
   "cell_type": "code",
   "execution_count": 26,
   "outputs": [],
   "source": [
    "single_featurs = {\n",
    "    'Geography': [1, 0, 0] ,\n",
    "    'Credit Score': 600,\n",
    "    'Gender': 1,\n",
    "    'Age': 40,\n",
    "    'Tenure': 3,\n",
    "    'Balance': 60000,\n",
    "    'Number of Products': 2,\n",
    "    'Credit Card': 1,\n",
    "    'Active Member': 1,\n",
    "    'Salary': 50000,\n",
    "}"
   ],
   "metadata": {
    "collapsed": false,
    "pycharm": {
     "name": "#%%\n"
    }
   }
  },
  {
   "cell_type": "code",
   "execution_count": 27,
   "outputs": [
    {
     "name": "stdout",
     "output_type": "stream",
     "text": [
      "[[False]]\n"
     ]
    }
   ],
   "source": [
    "# print(ann.predict(sc.transform([[1, 0, 0, 600, 1, 40, 3, 60000, 2, 1, 1, 50000]])) > 0.5)\n",
    "single_predictor(single_featurs)"
   ],
   "metadata": {
    "collapsed": false,
    "pycharm": {
     "name": "#%%\n"
    }
   }
  }
 ],
 "metadata": {
  "colab": {
   "collapsed_sections": [],
   "name": "artificial_neural_network.ipynb",
   "provenance": [],
   "toc_visible": true
  },
  "kernelspec": {
   "display_name": "Python 3 (ipykernel)",
   "language": "python",
   "name": "python3"
  },
  "language_info": {
   "codemirror_mode": {
    "name": "ipython",
    "version": 3
   },
   "file_extension": ".py",
   "mimetype": "text/x-python",
   "name": "python",
   "nbconvert_exporter": "python",
   "pygments_lexer": "ipython3",
   "version": "3.8.10"
  }
 },
 "nbformat": 4,
 "nbformat_minor": 1
}